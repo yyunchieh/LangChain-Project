{
 "cells": [
  {
   "cell_type": "code",
   "execution_count": 1,
   "metadata": {},
   "outputs": [],
   "source": [
    "import os\n",
    "from langchain.llms import OpenAI\n",
    "from langchain.chains import LLMChain, SequentialChain\n",
    "from langchain.prompts import PromptTemplate\n",
    "from langchain.chat_models import ChatOpenAI\n",
    "#from langchain_community.tools.langsmith import LangSmith\n",
    "\n",
    "os.environ[\"LANGCHAIN_TRACING_V2\"] = \"true\"\n",
    "os.environ[\"LANGCHAIN_ENDPOINT\"] = \"https://api.smith.langchain.com\"\n",
    "\n",
    "file_path = r\"C:\\Users\\4019-tjyen\\Desktop\\Langsmith.txt\"\n",
    "with open(file_path,\"r\") as file:\n",
    "    Langsmith_key = file.read().strip()\n",
    "    os.environ[\"LANGSMITH_API_KEY\"] = Langsmith_key"
   ]
  },
  {
   "cell_type": "code",
   "execution_count": 2,
   "metadata": {},
   "outputs": [],
   "source": [
    "API_path = r\"C:\\Users\\4019-tjyen\\Desktop\\API.txt\"\n",
    "with open(API_path,\"r\") as file:\n",
    "    openapi_key = file.read().strip()\n",
    "    \n",
    "os.environ['OPENAI_API_KEY'] = openapi_key"
   ]
  },
  {
   "cell_type": "code",
   "execution_count": 3,
   "metadata": {},
   "outputs": [
    {
     "name": "stderr",
     "output_type": "stream",
     "text": [
      "C:\\Users\\4019-tjyen\\AppData\\Local\\Temp\\ipykernel_30584\\253987029.py:1: LangChainDeprecationWarning: The class `OpenAI` was deprecated in LangChain 0.0.10 and will be removed in 1.0. An updated version of the class exists in the :class:`~langchain-openai package and should be used instead. To use it run `pip install -U :class:`~langchain-openai` and import as `from :class:`~langchain_openai import OpenAI``.\n",
      "  llm = OpenAI(openai_api_key=openapi_key, temperature=0.6)\n",
      "C:\\Users\\4019-tjyen\\AppData\\Local\\Temp\\ipykernel_30584\\253987029.py:13: LangChainDeprecationWarning: The class `LLMChain` was deprecated in LangChain 0.1.17 and will be removed in 1.0. Use :meth:`~RunnableSequence, e.g., `prompt | llm`` instead.\n",
      "  pipeline_chain = LLMChain(llm=llm, prompt=pipeline, output_key=\"process_steps\")\n",
      "C:\\Users\\4019-tjyen\\AppData\\Local\\Temp\\ipykernel_30584\\253987029.py:37: LangChainDeprecationWarning: The method `Chain.run` was deprecated in langchain 0.1.0 and will be removed in 1.0. Use :meth:`~invoke` instead.\n",
      "  response = chain.run({\"function\": \"machine learning code\"})\n"
     ]
    },
    {
     "name": "stdout",
     "output_type": "stream",
     "text": [
      "\n",
      "\n",
      "# Necessary library imports\n",
      "import pandas as pd\n",
      "import numpy as np\n",
      "import matplotlib.pyplot as plt\n",
      "import seaborn as sns\n",
      "from sklearn.model_selection import train_test_split\n",
      "from sklearn.preprocessing import StandardScaler\n",
      "from sklearn.metrics import accuracy_score, confusion_matrix, classification_report\n",
      "from sklearn.linear_model import LinearRegression\n",
      "from sklearn.tree import DecisionTreeClassifier\n",
      "from sklearn.ensemble import RandomForestClassifier\n",
      "from sklearn.svm import SVC\n",
      "from sklearn.neighbors import KNeighborsClassifier\n",
      "from sklearn.naive_bayes import GaussianNB\n",
      "\n",
      "# Function for data preprocessing\n",
      "def preprocess_data(data):\n",
      "    # Handle missing values\n",
      "    data.dropna(inplace=True)\n",
      "\n",
      "    # Encode categorical variables\n",
      "    data = pd.get_dummies(data)\n",
      "\n",
      "    # Normalize numerical data\n",
      "    scaler = StandardScaler()\n",
      "    data[['age', 'income']] = scaler.fit_transform(data[['age', 'income']])\n",
      "\n",
      "    return data\n",
      "\n",
      "# Function for model training\n",
      "def train_model(X_train, y_train, model):\n",
      "    model.fit(X_train, y_train)\n",
      "\n",
      "# Function for model evaluation\n",
      "def evaluate_model(X_test, y_test, model):\n",
      "    y_pred = model.predict(X_test)\n",
      "    print(\"Accuracy score:\", accuracy_score(y_test, y_pred))\n",
      "    print(\"Confusion matrix:\", confusion\n"
     ]
    }
   ],
   "source": [
    "llm = OpenAI(openai_api_key=openapi_key, temperature=0.6)\n",
    "\n",
    "# Chain 1 Describe the process\n",
    "pipeline = PromptTemplate(\n",
    "    input_variables = [\"function\"], \n",
    "    template = \"\"\"\n",
    "    You are an expert software engineer. Describe the complete process for implementing a {function}.\n",
    "    Include detailed steps such as data preprocessing, model selection, evaluation, and inderence.\n",
    "    Provide concise and clear descriptions for each step.\n",
    "    \"\"\"\n",
    "    )\n",
    "\n",
    "pipeline_chain = LLMChain(llm=llm, prompt=pipeline, output_key=\"process_steps\")\n",
    "\n",
    "# Chain 2 Generate template Code \n",
    "template_code = PromptTemplate(\n",
    "    input_variables = [\"process_steps\"],\n",
    "    template=\"\"\"\n",
    "    As a software engineer, generate a complete Python template for the following process:\n",
    "    {process_steps}\n",
    "    Make sure to include:\n",
    "    1. Necessary library imports.\n",
    "    2. Functions for data preprocessing, model training, evaluation, and inference.\n",
    "    \"\"\"\n",
    "    )\n",
    "\n",
    "code_chain = LLMChain(llm=llm, prompt=template_code, output_key=\"template_code\")\n",
    "\n",
    "# Combine the chains\n",
    "chain = SequentialChain(\n",
    "    chains=[pipeline_chain, code_chain], \n",
    "    input_variables=[\"function\"], \n",
    "    output_variables=[\"template_code\"]\n",
    "    )\n",
    "\n",
    "# Run and print result\n",
    "response = chain.run({\"function\": \"machine learning code\"})\n",
    "print(response)"
   ]
  }
 ],
 "metadata": {
  "kernelspec": {
   "display_name": "base",
   "language": "python",
   "name": "python3"
  },
  "language_info": {
   "codemirror_mode": {
    "name": "ipython",
    "version": 3
   },
   "file_extension": ".py",
   "mimetype": "text/x-python",
   "name": "python",
   "nbconvert_exporter": "python",
   "pygments_lexer": "ipython3",
   "version": "3.12.3"
  }
 },
 "nbformat": 4,
 "nbformat_minor": 2
}
