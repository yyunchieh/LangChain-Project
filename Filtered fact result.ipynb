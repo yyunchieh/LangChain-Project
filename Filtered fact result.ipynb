{
 "cells": [
  {
   "cell_type": "code",
   "execution_count": 1,
   "metadata": {},
   "outputs": [
    {
     "name": "stdout",
     "output_type": "stream",
     "text": [
      "Filtered file has been saved!\n"
     ]
    }
   ],
   "source": [
    "import pandas as pd\n",
    "\n",
    "data = pd.read_csv(r\"C:\\Users\\4019-tjyen\\Downloads\\0319Fact_check_results, four keywords.csv\")\n",
    "\n",
    "data_filtered = data[data[\"status\"] != \"Fake/Unverified\"]\n",
    "\n",
    "data_filtered = data_filtered.drop_duplicates(subset=[\"title\"], keep = \"first\")\n",
    "\n",
    "# Save the result \n",
    "filtered_csv_filename = \"Filtered_fact_check_results.csv\"\n",
    "data_filtered.to_csv(filtered_csv_filename, index=False)\n",
    "\n",
    "print(f\"Filtered file has been saved!\")\n"
   ]
  }
 ],
 "metadata": {
  "kernelspec": {
   "display_name": "base",
   "language": "python",
   "name": "python3"
  },
  "language_info": {
   "codemirror_mode": {
    "name": "ipython",
    "version": 3
   },
   "file_extension": ".py",
   "mimetype": "text/x-python",
   "name": "python",
   "nbconvert_exporter": "python",
   "pygments_lexer": "ipython3",
   "version": "3.12.3"
  }
 },
 "nbformat": 4,
 "nbformat_minor": 2
}
